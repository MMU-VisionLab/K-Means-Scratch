{
 "cells": [
  {
   "cell_type": "markdown",
   "metadata": {},
   "source": [
    "# K-Means Clustering "
   ]
  },
  {
   "cell_type": "markdown",
   "metadata": {},
   "source": [
    "### Principle of the algorithm"
   ]
  },
  {
   "cell_type": "markdown",
   "metadata": {},
   "source": [
    "K-Means is an unsupervised learning algorithm that groups the data points in a given dataset into **K** number of groups. This is particularly useful when we have a dataset such that each data point belongs to one of several different classes yet unlabelled. "
   ]
  },
  {
   "cell_type": "markdown",
   "metadata": {},
   "source": [
    "Commonly, data points that belong to a particular class would be clumped together due to the similarity in their attribute(s). K-Means algorithm exploits this property and group these clumps together. However, choosing the number **K** can be tricky sometimes. Normally there would be trials and errors performed before choosing a good value for **K**."
   ]
  },
  {
   "cell_type": "markdown",
   "metadata": {},
   "source": [
    "### Procedure"
   ]
  },
  {
   "cell_type": "markdown",
   "metadata": {},
   "source": [
    "1) Randomly generate **K** number of centroids (points)\n",
    "\n",
    "2) Calculate the distance between each data point and each centroid\n",
    "\n",
    "3) Assign each data point to the closest centroid\n",
    "\n",
    "4) Calculate the mean of each clusters\n",
    "\n",
    "5) Update the centroids to the calculated means of their respective clusters\n",
    "\n",
    "6) Repeat step 2 to 5 until there are no changes to the centroids"
   ]
  },
  {
   "cell_type": "markdown",
   "metadata": {},
   "source": [
    "### Mathematical Formula"
   ]
  },
  {
   "cell_type": "markdown",
   "metadata": {},
   "source": [
    "The distance calculation in step 2 is done using the Euclidean Distance"
   ]
  },
  {
   "cell_type": "markdown",
   "metadata": {},
   "source": [
    "d(i, j) = || **x**<sup>i</sup> - $\\mu$<sub>j</sub> ||"
   ]
  },
  {
   "cell_type": "markdown",
   "metadata": {},
   "source": [
    "where **x**<sup>i</sup> is _i-th_ data point and $\\mu$<sub>j</sub> is _j-th_ centroid."
   ]
  },
  {
   "cell_type": "markdown",
   "metadata": {},
   "source": [
    "The mean calculation of a cluster in step 4 is done with"
   ]
  },
  {
   "cell_type": "markdown",
   "metadata": {},
   "source": [
    "$\\mu(\\omega)$ = $\\frac{1}{|\\omega|}\\sum_{x \\in \\omega} x$"
   ]
  },
  {
   "cell_type": "markdown",
   "metadata": {},
   "source": [
    "where $\\omega$ is one of the specific cluster and x is a data point."
   ]
  }
 ],
 "metadata": {
  "kernelspec": {
   "display_name": "Python 3",
   "language": "python",
   "name": "python3"
  },
  "language_info": {
   "codemirror_mode": {
    "name": "ipython",
    "version": 3
   },
   "file_extension": ".py",
   "mimetype": "text/x-python",
   "name": "python",
   "nbconvert_exporter": "python",
   "pygments_lexer": "ipython3",
   "version": "3.6.10"
  }
 },
 "nbformat": 4,
 "nbformat_minor": 4
}
